{
 "metadata": {
  "language_info": {
   "codemirror_mode": {
    "name": "ipython",
    "version": 3
   },
   "file_extension": ".py",
   "mimetype": "text/x-python",
   "name": "python",
   "nbconvert_exporter": "python",
   "pygments_lexer": "ipython3",
   "version": 3
  },
  "orig_nbformat": 2
 },
 "nbformat": 4,
 "nbformat_minor": 2,
 "cells": [
  {
   "cell_type": "code",
   "execution_count": null,
   "metadata": {},
   "outputs": [],
   "source": []
  },
  {
   "cell_type": "code",
   "execution_count": null,
   "metadata": {},
   "outputs": [],
   "source": [
    "from privacy_evaluator.attacks.property_inference_attack import PropertyInferenceAttack\n",
    "from privacy_evaluator.classifiers.classifier import Classifier\n",
    "from privacy_evaluator.utils.data_utils import (\n",
    "    dataset_downloader,\n",
    "    new_dataset_from_size_dict,\n",
    ")\n",
    "from privacy_evaluator.utils.trainer import trainer\n",
    "from privacy_evaluator.models.torch.cnn import ConvNet\n",
    "\n",
    "import collections\n",
    "from matplotlib import pyplot as plt\n",
    "import warnings\n",
    "warnings.filterwarnings(\"ignore\")"
   ]
  },
  {
   "cell_type": "code",
   "execution_count": null,
   "metadata": {},
   "outputs": [],
   "source": [
    "train_dataset, test_dataset = dataset_downloader(\"CIFAR10\")\n",
    "input_shape = test_dataset[0][0].shape\n",
    "print(input_shape)"
   ]
  }
 ]
}