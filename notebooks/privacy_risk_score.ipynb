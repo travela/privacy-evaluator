{
 "cells": [
  {
   "cell_type": "code",
   "execution_count": null,
   "metadata": {},
   "outputs": [],
   "source": [
    "import privacy_evaluator.models.torch.dcti.dcti as torch_dcti \n",
    "from privacy_evaluator.datasets.cifar10 import CIFAR10\n",
    "from privacy_evaluator.classifiers.classifier import Classifier\n",
    "\n",
    "from privacy_evaluator.metrics.privacy_risk_score import * \n",
    "\n",
    "# import tensorflow as tf\n",
    "import torch"
   ]
  },
  {
   "cell_type": "markdown",
   "metadata": {},
   "source": [
    "# Dataset"
   ]
  },
  {
   "cell_type": "code",
   "execution_count": null,
   "metadata": {},
   "outputs": [],
   "source": [
    "# Load CIFAR datasets\n",
    "x_train, y_train, x_test, y_test = CIFAR10.numpy()"
   ]
  },
  {
   "cell_type": "markdown",
   "metadata": {},
   "source": [
    "# Target Model"
   ]
  },
  {
   "cell_type": "code",
   "execution_count": null,
   "metadata": {},
   "outputs": [],
   "source": [
    "# Target model loss function\n",
    "# tf_loss = tf.keras.losses.CategoricalCrossentropy(from_logits=True)\n",
    "torch_loss = torch.nn.CrossEntropyLoss(reduction=\"none\")\n",
    "\n",
    "# Pytorch target model\n",
    "target_model = Classifier(torch_dcti.load_dcti(), loss=torch.nn.CrossEntropyLoss(reduction=\"none\"), nb_classes=CIFAR10.N_CLASSES, input_shape=CIFAR10.INPUT_SHAPE)"
   ]
  },
  {
   "cell_type": "markdown",
   "metadata": {},
   "source": [
    "# Prvacy Risk Score"
   ]
  },
  {
   "cell_type": "code",
   "execution_count": null,
   "metadata": {},
   "outputs": [],
   "source": [
    "train_privacy_risk_score, test_privacy_risk_score = compute_privacy_risk_score(target_model, x_train[:100], y_train[:100], x_test[:100], y_test[:100])"
   ]
  }
 ],
 "metadata": {
  "kernelspec": {
   "display_name": "privacy-evaluator-venv",
   "language": "python",
   "name": "privacy-evaluator-venv"
  },
  "language_info": {
   "codemirror_mode": {
    "name": "ipython",
    "version": 3
   },
   "file_extension": ".py",
   "mimetype": "text/x-python",
   "name": "python",
   "nbconvert_exporter": "python",
   "pygments_lexer": "ipython3",
   "version": "3.8.5"
  }
 },
 "nbformat": 4,
 "nbformat_minor": 4
}
